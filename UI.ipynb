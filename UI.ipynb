{
 "cells": [
  {
   "cell_type": "code",
   "execution_count": 4,
   "metadata": {},
   "outputs": [
    {
     "name": "stderr",
     "output_type": "stream",
     "text": [
      "C:\\Users\\28956\\AppData\\Local\\Temp\\ipykernel_12416\\32322199.py:5: DeprecationWarning: sipPyTypeDict() is deprecated, the extension module should use sipPyTypeDictRef() instead\n",
      "  class window(QWidget):\n"
     ]
    },
    {
     "ename": "SystemExit",
     "evalue": "0",
     "output_type": "error",
     "traceback": [
      "An exception has occurred, use %tb to see the full traceback.\n",
      "\u001b[1;31mSystemExit\u001b[0m\u001b[1;31m:\u001b[0m 0\n"
     ]
    }
   ],
   "source": [
    "import sys\n",
    "from PyQt5.QtCore import *\n",
    "from PyQt5.QtGui import *\n",
    "from PyQt5.QtWidgets import *\n",
    "class window(QWidget):\n",
    "   def __init__(self, parent = None):\n",
    "      super(window, self).__init__(parent)\n",
    "      self.resize(400,400)\n",
    "      self.setWindowTitle(\"PyQt5\")\n",
    "      self.label = QLabel(self)\n",
    "      self.label.setText(\"Hello World\")\n",
    "      font = QFont()\n",
    "      font.setFamily(\"Arial\")\n",
    "      font.setPointSize(16)\n",
    "      self.label.setFont(font)\n",
    "      self.label.move(50,20)\n",
    "def main():\n",
    "   app = QApplication(sys.argv)\n",
    "   ex = window()\n",
    "   ex.show()\n",
    "   sys.exit(app.exec_())\n",
    "if __name__ == '__main__':\n",
    "   main()"
   ]
  }
 ],
 "metadata": {
  "kernelspec": {
   "display_name": "dm",
   "language": "python",
   "name": "python3"
  },
  "language_info": {
   "codemirror_mode": {
    "name": "ipython",
    "version": 3
   },
   "file_extension": ".py",
   "mimetype": "text/x-python",
   "name": "python",
   "nbconvert_exporter": "python",
   "pygments_lexer": "ipython3",
   "version": "3.9.18"
  }
 },
 "nbformat": 4,
 "nbformat_minor": 2
}
