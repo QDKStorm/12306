{
 "cells": [
  {
   "cell_type": "code",
   "execution_count": 66,
   "metadata": {},
   "outputs": [],
   "source": [
    "import json\n",
    "import pandas as pd\n",
    "\n",
    "train_list = []\n",
    "file_name = \"test_time.txt\"\n",
    "with open(file_name, \"r\", encoding=\"utf-8\") as f:\n",
    "    for line in f:\n",
    "        if line[0] in [\"G\", \"D\", \"C\", \"S\", \"Z\", \"Y\", \"T\", \"K\", \"N\"]:\n",
    "            train_list.append({\"train_id\": \"\", \"train_time\": []})\n",
    "            train_list[-1][\"train_id\"] = line.strip()\n",
    "        elif line == \"\" or line == \"\\n\":\n",
    "            continue\n",
    "        else:\n",
    "            train_list[-1][\"train_time\"].append(line.strip().split(\"\\t\"))\n",
    "\n",
    "with open(\"train_time.json\", \"w\", encoding=\"utf-8\") as f:\n",
    "    json.dump(train_list, f, ensure_ascii=False, indent=4)"
   ]
  },
  {
   "cell_type": "code",
   "execution_count": 67,
   "metadata": {},
   "outputs": [],
   "source": [
    "s = set()\n",
    "for train in train_list:\n",
    "    for stop in train[\"train_time\"]:\n",
    "        s.add(stop[0])\n",
    "total = len(s)\n",
    "\n",
    "df = pd.DataFrame(s).sort_values(by=0).reset_index(drop=True)\n",
    "df.columns = [\"station\"]\n",
    "df[\"station_id\"] = range(0, total)\n",
    "d={}\n",
    "for i in range(total):\n",
    "    d[df[\"station\"][i]] = str(df[\"station_id\"][i])\n",
    "with open(\"station_id.json\", \"w\", encoding=\"utf-8\") as f:\n",
    "    json.dump(d, f, ensure_ascii=False, indent=4)"
   ]
  },
  {
   "cell_type": "code",
   "execution_count": 68,
   "metadata": {},
   "outputs": [],
   "source": [
    "station2id = {}\n",
    "for id in range(0, total):\n",
    "    station2id[df.iloc[id, 0]] = id\n",
    "\n",
    "for train in train_list:\n",
    "    for stop in train[\"train_time\"]:\n",
    "        stop.append(station2id[stop[0]])\n",
    "\n",
    "with open(\"train_time.json\", \"w\", encoding=\"utf-8\") as f:\n",
    "    json.dump(train_list, f, ensure_ascii=False, indent=4)"
   ]
  },
  {
   "cell_type": "code",
   "execution_count": 69,
   "metadata": {},
   "outputs": [],
   "source": [
    "import datetime, math\n",
    "\n",
    "INTERVAL = 15\n",
    "SPLIT = 24 * 60 // INTERVAL\n",
    "STATION_END = total * SPLIT * 2\n",
    "\n",
    "\n",
    "def station_in(station_id):\n",
    "    return station_id * SPLIT * 2\n",
    "\n",
    "\n",
    "def station_out(station_id):\n",
    "    return station_id * SPLIT * 2 + SPLIT\n",
    "\n",
    "\n",
    "def transfer(station_id, time, io):\n",
    "    time = datetime.datetime.strptime(time, \"%H:%M\")\n",
    "    if io == 0:\n",
    "        time = math.ceil((time.hour * 60 + time.minute) / 15) % SPLIT\n",
    "    else:\n",
    "        time = math.floor((time.hour * 60 + time.minute) / 15) % SPLIT\n",
    "    return int(station_id * SPLIT * 2 + time + io * SPLIT)\n",
    "\n",
    "\n",
    "file = open(\"in.txt\", \"w\")\n",
    "file.write(str(len(d.keys())) + \"\\n\")\n",
    "for i,v in d.items():\n",
    "    file.write(str(i)+\" \"+str(v)+\"\\n\")\n",
    "# file.write(str(STATION_END + total)+\"\\n\")\n",
    "for train in train_list:\n",
    "    for f in range(0, len(train[\"train_time\"]) - 1):\n",
    "        for t in range(f + 1, len(train[\"train_time\"])):\n",
    "            starttime = datetime.datetime.strptime(train[\"train_time\"][f][2], \"%H:%M\")\n",
    "            endtime = datetime.datetime.strptime(train[\"train_time\"][t][1], \"%H:%M\")\n",
    "            if (endtime - starttime).seconds / 60 < 0:\n",
    "                endtime += datetime.timedelta(days=1)\n",
    "            during = int((endtime - starttime).seconds / 60)\n",
    "            f_station = transfer(\n",
    "                train[\"train_time\"][f][3], train[\"train_time\"][f][2], 1\n",
    "            )\n",
    "            t_station = transfer(\n",
    "                train[\"train_time\"][t][3], train[\"train_time\"][t][1], 0\n",
    "            )\n",
    "            file.write(\n",
    "                str(f_station)\n",
    "                + \" \"\n",
    "                + str(t_station)\n",
    "                + \" \"\n",
    "                + str(during)\n",
    "                + \" \"\n",
    "                + train[\"train_id\"]\n",
    "                + \"：\"\n",
    "                + train[\"train_time\"][f][0]\n",
    "                + \"至\"\n",
    "                + train[\"train_time\"][t][0]\n",
    "                + \"从\"\n",
    "                + train[\"train_time\"][f][2]\n",
    "                + \"到\"\n",
    "                + train[\"train_time\"][t][1]\n",
    "                + \"\\n\"\n",
    "            )\n",
    "\n",
    "for i in range(total):\n",
    "    for j in range(station_in(i), station_out(i)):\n",
    "        for k in range(j + 1, j + 24):\n",
    "            if k + SPLIT < (i + 1) * SPLIT * 2:\n",
    "                file.write(\n",
    "                    str(j)\n",
    "                    + \" \"\n",
    "                    + str(k + SPLIT)\n",
    "                    + \" \"\n",
    "                    + str((k - j) * INTERVAL)\n",
    "                    + \" wait\\n\"\n",
    "                )\n",
    "            else:\n",
    "                file.write(\n",
    "                    str(j) + \" \" + str(k) + \" \" + str((k - j) * INTERVAL) + \" wait\\n\"\n",
    "                )\n",
    "\n",
    "for i in range(total):\n",
    "    for j in range(station_in(i), station_out(i)):\n",
    "        file.write(str(j) + \" \" + str(STATION_END + i) + \" 0 end\\n\")"
   ]
  },
  {
   "cell_type": "code",
   "execution_count": 70,
   "metadata": {},
   "outputs": [
    {
     "name": "stdout",
     "output_type": "stream",
     "text": [
      "288\n"
     ]
    }
   ],
   "source": [
    "print(station_out(1))"
   ]
  }
 ],
 "metadata": {
  "kernelspec": {
   "display_name": "dm",
   "language": "python",
   "name": "python3"
  },
  "language_info": {
   "codemirror_mode": {
    "name": "ipython",
    "version": 3
   },
   "file_extension": ".py",
   "mimetype": "text/x-python",
   "name": "python",
   "nbconvert_exporter": "python",
   "pygments_lexer": "ipython3",
   "version": "3.9.18"
  }
 },
 "nbformat": 4,
 "nbformat_minor": 2
}
