{
 "cells": [
  {
   "cell_type": "code",
   "execution_count": 16,
   "metadata": {},
   "outputs": [],
   "source": [
    "import json\n",
    "s=''\n",
    "with open(\"station_code.txt\",\"r\") as f:\n",
    "    s=f.readline().split('|||')\n",
    "s=[i for i in s if i!='']\n",
    "d={}\n",
    "for stop in s:\n",
    "    temp=stop.split('|')\n",
    "    d[temp[1]]=temp[2]\n",
    "with open(\"station_code.json\",\"w\",encoding='utf-8') as f:\n",
    "    json.dump(d,f,ensure_ascii=False,indent=4)"
   ]
  }
 ],
 "metadata": {
  "kernelspec": {
   "display_name": "dm",
   "language": "python",
   "name": "python3"
  },
  "language_info": {
   "codemirror_mode": {
    "name": "ipython",
    "version": 3
   },
   "file_extension": ".py",
   "mimetype": "text/x-python",
   "name": "python",
   "nbconvert_exporter": "python",
   "pygments_lexer": "ipython3",
   "version": "3.9.18"
  }
 },
 "nbformat": 4,
 "nbformat_minor": 2
}
